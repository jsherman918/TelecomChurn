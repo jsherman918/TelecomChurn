{
 "cells": [
  {
   "cell_type": "markdown",
   "metadata": {},
   "source": [
    "## SyriaTel Churn \n",
    "Syriatel is a communications company hoping to prevent customer churn.  They have provided me with their customer data to predict churn using classification regression.\n",
    "### Feature Analysis\n",
    "![image.png](attachment:image.png)\n",
    "\n",
    "Day charge is the feature most responsible for churn.  Customers are clearly price sensitive.\n",
    "#### Customer Service Calls\n",
    "![image.png](attachment:image.png)\n",
    "\n",
    "Once a customer makes more than 3 calls, churn rate increases dramatically.\n",
    "#### Daytime Charge\n",
    "![image.png](attachment:image.png)\n",
    "\n",
    "Daytime charge is the biggest indicator of churn.  Once people speak for over 250 minutes (.17c per minute), churn rate gets continuously higher.\n",
    "#### Total Charge\n",
    "\n",
    "![image.png](attachment:image.png)\n",
    "\n",
    "Once a customer spends more than $70 total on the month (regardless of time breakdown), churn takes off.\n",
    "### Model\n",
    "![image.png](attachment:image.png)\n",
    "There was a 14.49% churn rate\n",
    "![image.png](attachment:image.png)\n",
    "Our Random Foeest Classifier yielded the best model.\n",
    "\n",
    "Precision= 95%\n",
    "\n",
    "Recall= 61%\n",
    "\n",
    "Accuracy= 94%\n",
    "\n",
    "F1 Score- 74%\n",
    "### Recommendations\n",
    "Once a customer calls more than three times, they should be offered a special promotion to keep them happy.  The 4th call is typically when churn rates become worrysome.\n",
    "\n",
    "The biggest predictor of churn is ultimately because the service is too expensive.  Syriatel should offer an unlimited minutes pricing plan to frequent users as this will prevent them from churn and ultimately allow them to retain business.\n",
    "### Next Steps\n",
    "Compare pricing plans and customer churn rates with competitors.\n",
    "\n",
    "![images/roc_curve.png](images/roc_curve.png)"
   ]
  },
  {
   "attachments": {},
   "cell_type": "markdown",
   "metadata": {},
   "source": []
  },
  {
   "cell_type": "code",
   "execution_count": 5,
   "metadata": {},
   "outputs": [
    {
     "name": "stdout",
     "output_type": "stream",
     "text": [
      "feature_analysis.png\n",
      "roc_curve.png\n"
     ]
    }
   ],
   "source": [
    "! ls images"
   ]
  },
  {
   "cell_type": "markdown",
   "metadata": {},
   "source": []
  },
  {
   "cell_type": "markdown",
   "metadata": {},
   "source": []
  },
  {
   "cell_type": "markdown",
   "metadata": {},
   "source": []
  },
  {
   "cell_type": "markdown",
   "metadata": {},
   "source": []
  },
  {
   "cell_type": "markdown",
   "metadata": {},
   "source": []
  },
  {
   "cell_type": "markdown",
   "metadata": {},
   "source": []
  },
  {
   "cell_type": "markdown",
   "metadata": {},
   "source": []
  },
  {
   "cell_type": "markdown",
   "metadata": {},
   "source": []
  },
  {
   "cell_type": "markdown",
   "metadata": {},
   "source": []
  },
  {
   "cell_type": "markdown",
   "metadata": {},
   "source": []
  },
  {
   "cell_type": "markdown",
   "metadata": {},
   "source": []
  },
  {
   "cell_type": "markdown",
   "metadata": {},
   "source": []
  },
  {
   "cell_type": "markdown",
   "metadata": {},
   "source": []
  },
  {
   "cell_type": "markdown",
   "metadata": {},
   "source": []
  },
  {
   "cell_type": "markdown",
   "metadata": {},
   "source": []
  },
  {
   "cell_type": "markdown",
   "metadata": {},
   "source": []
  },
  {
   "cell_type": "markdown",
   "metadata": {},
   "source": []
  },
  {
   "cell_type": "markdown",
   "metadata": {},
   "source": []
  },
  {
   "cell_type": "markdown",
   "metadata": {},
   "source": []
  },
  {
   "cell_type": "markdown",
   "metadata": {},
   "source": []
  },
  {
   "cell_type": "markdown",
   "metadata": {},
   "source": []
  }
 ],
 "metadata": {
  "kernelspec": {
   "display_name": "Python (learn-env)",
   "language": "python",
   "name": "learn-env"
  },
  "language_info": {
   "codemirror_mode": {
    "name": "ipython",
    "version": 3
   },
   "file_extension": ".py",
   "mimetype": "text/x-python",
   "name": "python",
   "nbconvert_exporter": "python",
   "pygments_lexer": "ipython3",
   "version": "3.8.5"
  }
 },
 "nbformat": 4,
 "nbformat_minor": 4
}
